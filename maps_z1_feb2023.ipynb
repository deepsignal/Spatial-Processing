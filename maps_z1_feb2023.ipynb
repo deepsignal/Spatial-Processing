{
  "nbformat": 4,
  "nbformat_minor": 0,
  "metadata": {
    "colab": {
      "provenance": [],
      "authorship_tag": "ABX9TyMdHBIW8BTu9YEhpAqKiN4Y",
      "include_colab_link": true
    },
    "kernelspec": {
      "name": "python3",
      "display_name": "Python 3"
    },
    "language_info": {
      "name": "python"
    }
  },
  "cells": [
    {
      "cell_type": "markdown",
      "metadata": {
        "id": "view-in-github",
        "colab_type": "text"
      },
      "source": [
        "<a href=\"https://colab.research.google.com/github/deepsignal/Spatial-Processing/blob/master/maps_z1_feb2023.ipynb\" target=\"_parent\"><img src=\"https://colab.research.google.com/assets/colab-badge.svg\" alt=\"Open In Colab\"/></a>"
      ]
    },
    {
      "cell_type": "markdown",
      "source": [
        "Maps code, using the new compression engine file. "
      ],
      "metadata": {
        "id": "ztwxJEt6w9JE"
      }
    },
    {
      "cell_type": "code",
      "source": [
        "from google.colab import drive  \n",
        "drive.mount('/content/gdrive')"
      ],
      "metadata": {
        "colab": {
          "base_uri": "https://localhost:8080/"
        },
        "id": "bOnejUrRxCDi",
        "outputId": "30ac0f43-c201-41d5-d714-e544c0297933"
      },
      "execution_count": 2,
      "outputs": [
        {
          "output_type": "stream",
          "name": "stdout",
          "text": [
            "Mounted at /content/gdrive\n"
          ]
        }
      ]
    },
    {
      "cell_type": "code",
      "source": [
        "# experiments towards the tail end of dec 2022\n",
        "# adding roatation code, to manipulate points. \n",
        "import json"
      ],
      "metadata": {
        "id": "l9K1brBjzVZL"
      },
      "execution_count": 3,
      "outputs": []
    },
    {
      "cell_type": "code",
      "source": [
        "#copied_path = '/content/gdrive/MyDrive/combo_files/nlp_format_adriandevice.json'\n",
        "#copied_path = '/content/gdrive/MyDrive/5db8f4ebbca6fe4cba7f6543_20221112_163300_20221112_164300_reassign.json' # taj single walkthru 5 min\n",
        "copied_path = '/content/gdrive/MyDrive/dt_demoday_live_data_reassign.json' # DT_demo Steven Uhoto\n",
        "#copied_path = '/content/gdrive/MyDrive/taj_fullday_5db8f4ebbca6fe4cba7f6543_20221106_000000_20221106_230000_reassign.json'    # taj full dat\n",
        "\n",
        "with open(copied_path) as f:\n",
        "  compress_data = json.load(f)\n",
        "\n",
        "#print(len(compress_data[\"max_topology\"]))\n",
        "# 21\n",
        "\n",
        "with open(copied_path) as f:\n",
        "  compress_data = json.load(f)\n",
        "\n",
        "#print(len(compress_data[\"max_topology\"]))\n",
        "# 21"
      ],
      "metadata": {
        "id": "RZjjC5uixNvU"
      },
      "execution_count": 4,
      "outputs": []
    },
    {
      "cell_type": "code",
      "source": [
        "compress_data.keys()"
      ],
      "metadata": {
        "colab": {
          "base_uri": "https://localhost:8080/"
        },
        "id": "O1h-NA9E3BEy",
        "outputId": "7ce57667-1a42-4c27-e892-73cf0af8ede1"
      },
      "execution_count": 5,
      "outputs": [
        {
          "output_type": "execute_result",
          "data": {
            "text/plain": [
              "dict_keys(['all_location', 'topo1'])"
            ]
          },
          "metadata": {},
          "execution_count": 5
        }
      ]
    },
    {
      "cell_type": "code",
      "source": [
        "compress_data['topo1'].keys()"
      ],
      "metadata": {
        "colab": {
          "base_uri": "https://localhost:8080/"
        },
        "id": "5c8wk3pC3WLh",
        "outputId": "874d996c-02c8-4eab-a71e-891eea0e0ee0"
      },
      "execution_count": 6,
      "outputs": [
        {
          "output_type": "execute_result",
          "data": {
            "text/plain": [
              "dict_keys(['topology', 'combo_occurrence', 'transition_info', 'combo_sequence', 'time_sequence'])"
            ]
          },
          "metadata": {},
          "execution_count": 6
        }
      ]
    },
    {
      "cell_type": "code",
      "source": [
        "compress_data['topo1']['combo_sequence'][1:5]"
      ],
      "metadata": {
        "colab": {
          "base_uri": "https://localhost:8080/"
        },
        "id": "TlOrlqkp3cwY",
        "outputId": "24db6eaa-5af1-4a46-e717-2662bccc2f38"
      },
      "execution_count": 7,
      "outputs": [
        {
          "output_type": "execute_result",
          "data": {
            "text/plain": [
              "[1, 1, 1, 4]"
            ]
          },
          "metadata": {},
          "execution_count": 7
        }
      ]
    },
    {
      "cell_type": "code",
      "source": [
        "len(compress_data['topo1']['combo_sequence'])"
      ],
      "metadata": {
        "colab": {
          "base_uri": "https://localhost:8080/"
        },
        "id": "uEF9p9Gy49Kb",
        "outputId": "2b6c557f-8053-4204-ad20-2c124f864ef8"
      },
      "execution_count": 8,
      "outputs": [
        {
          "output_type": "execute_result",
          "data": {
            "text/plain": [
              "601"
            ]
          },
          "metadata": {},
          "execution_count": 8
        }
      ]
    },
    {
      "cell_type": "code",
      "source": [
        "# How many total combos are there in the time series\n",
        "len(set(compress_data['topo1']['combo_sequence']))"
      ],
      "metadata": {
        "colab": {
          "base_uri": "https://localhost:8080/"
        },
        "id": "jo4qgbJ38OKm",
        "outputId": "65dba718-934b-4c0a-d82b-18cd4895bd04"
      },
      "execution_count": 9,
      "outputs": [
        {
          "output_type": "execute_result",
          "data": {
            "text/plain": [
              "7"
            ]
          },
          "metadata": {},
          "execution_count": 9
        }
      ]
    },
    {
      "cell_type": "code",
      "source": [
        "import numpy as np\n",
        "np.set_printoptions(suppress=True)\n",
        "np.set_printoptions(linewidth=np.inf)\n",
        "np.set_printoptions(precision=2)"
      ],
      "metadata": {
        "id": "NKOuVbgu4k2z"
      },
      "execution_count": 10,
      "outputs": []
    },
    {
      "cell_type": "code",
      "source": [
        "data1 = compress_data['topo1']['combo_sequence']\n",
        "\n",
        "# filter the time series using only selected combos\n",
        "data2 = []\n",
        "top_combos = 7 #12  # replace with a list of selections\n",
        "selected_combos = [i+1 for i in range(top_combos)]\n",
        "for i in data1:\n",
        "  if i in selected_combos:\n",
        "    data2.append(i)\n",
        "\n",
        "print(data2)\n"
      ],
      "metadata": {
        "colab": {
          "base_uri": "https://localhost:8080/"
        },
        "id": "WjNh-6bj9NFn",
        "outputId": "9536f438-b01e-4c27-9097-19062cb805f3"
      },
      "execution_count": 11,
      "outputs": [
        {
          "output_type": "stream",
          "name": "stdout",
          "text": [
            "[1, 1, 1, 1, 4, 5, 1, 1, 4, 4, 4, 2, 2, 2, 4, 1, 1, 1, 2, 4, 4, 2, 2, 2, 2, 2, 2, 2, 2, 2, 2, 2, 2, 2, 2, 2, 2, 2, 2, 2, 2, 2, 2, 2, 2, 2, 2, 2, 2, 2, 2, 4, 4, 1, 1, 1, 1, 1, 1, 1, 1, 1, 1, 1, 1, 1, 1, 1, 1, 1, 1, 1, 1, 1, 1, 1, 1, 1, 1, 1, 1, 1, 1, 1, 1, 1, 1, 1, 1, 1, 6, 1, 1, 1, 1, 1, 1, 1, 1, 1, 1, 1, 1, 1, 1, 1, 1, 1, 1, 1, 1, 1, 1, 1, 1, 1, 1, 1, 1, 1, 1, 1, 1, 1, 1, 1, 1, 4, 2, 2, 2, 2, 2, 1, 1, 1, 5, 5, 2, 2, 2, 2, 2, 2, 2, 2, 2, 2, 2, 2, 2, 2, 2, 4, 4, 4, 4, 4, 2, 4, 4, 1, 5, 2, 2, 3, 3, 3, 3, 3, 3, 3, 3, 3, 3, 3, 6, 6, 3, 3, 3, 3, 3, 3, 3, 3, 3, 3, 3, 3, 7, 7, 2, 5, 5, 1, 1, 1, 4, 4, 2, 2, 2, 2, 4, 2, 4, 4, 4, 1, 1, 1, 1, 1, 1, 1, 1, 1, 1, 1, 1, 1, 1, 1, 1, 1, 1, 1, 1, 1, 1, 1, 1, 1, 1, 1, 1, 1, 1, 1, 1, 1, 1, 1, 1, 1, 1, 1, 1, 1, 1, 1, 1, 1, 1, 1, 1, 1, 1, 1, 1, 1, 1, 1, 1, 1, 1, 1, 1, 1, 1, 1, 1, 1, 1, 1, 2, 2, 2, 2, 2, 2, 5, 1, 1, 5, 2, 2, 2, 2, 2, 2, 2, 2, 2, 2, 2, 2, 2, 2, 2, 2, 2, 2, 2, 2, 2, 2, 2, 2, 2, 2, 2, 2, 2, 2, 2, 2, 2, 2, 2, 2, 2, 2, 2, 2, 2, 2, 2, 2, 2, 2, 2, 2, 5, 1, 1, 1, 1, 1, 1, 1, 1, 1, 1, 1, 1, 1, 1, 1, 1, 1, 1, 1, 1, 1, 1, 1, 1, 1, 1, 1, 1, 1, 1, 1, 1, 1, 1, 1, 1, 1, 1, 1, 1, 1, 1, 1, 4, 4, 4, 1, 1, 4, 4, 2, 2, 4, 4, 2, 2, 2, 4, 4, 5, 5, 4, 4, 4, 4, 4, 2, 2, 2, 2, 2, 2, 2, 2, 2, 3, 3, 3, 3, 3, 3, 3, 3, 3, 3, 3, 3, 3, 3, 3, 3, 3, 3, 3, 3, 3, 3, 3, 3, 3, 3, 3, 3, 3, 3, 3, 3, 3, 3, 3, 3, 3, 3, 3, 3, 3, 3, 3, 3, 3, 3, 3, 3, 3, 3, 3, 3, 3, 3, 3, 3, 3, 3, 3, 3, 3, 3, 3, 3, 2, 2, 2, 4, 4, 4, 1, 4, 4, 4, 4, 4, 2, 4, 4, 4, 2, 1, 1, 1, 1, 1, 1, 1, 1, 1, 1, 1, 1, 1, 1, 1, 1, 1, 1, 1, 1, 1, 1, 1, 1, 1, 1, 1, 1, 1, 1, 1, 1, 1, 1, 1, 1, 1, 1, 1, 1, 1, 1, 1, 1, 1, 1, 1, 1, 1, 1, 1, 1, 1, 1, 1, 1, 1, 1, 1, 1, 1, 1, 1, 1, 1, 1, 1, 1, 1, 1, 2, 2, 2, 2, 2, 2, 2, 2, 5, 1, 2, 2, 2, 2, 2, 2, 2, 2, 2, 2, 2, 2, 2, 2, 2, 2, 2, 2, 2, 2, 2, 2, 2, 2, 2, 2, 2, 2, 2, 2]\n"
          ]
        }
      ]
    },
    {
      "cell_type": "code",
      "source": [
        "print(selected_combos)"
      ],
      "metadata": {
        "colab": {
          "base_uri": "https://localhost:8080/"
        },
        "id": "TY2jGhVQfnEM",
        "outputId": "e2710bcc-ae70-48ce-b9c0-956cc5e085eb"
      },
      "execution_count": 12,
      "outputs": [
        {
          "output_type": "stream",
          "name": "stdout",
          "text": [
            "[1, 2, 3, 4, 5, 6, 7]\n"
          ]
        }
      ]
    },
    {
      "cell_type": "code",
      "source": [
        "for i in range(20):\n",
        "  k = compress_data['topo1']['transition_info']['Combo'+str(i+1)] #['links']\n",
        "  #print('Combo'+str(i+1)+'::',k['links'], '<<<>>>', k['location'])\n",
        "  print('Combo'+str(i+1)+'::',k['links'])"
      ],
      "metadata": {
        "colab": {
          "base_uri": "https://localhost:8080/",
          "height": 339
        },
        "id": "KQtjYdBtDMEt",
        "outputId": "b7d755cc-3655-45d3-cc6e-225cab736e13"
      },
      "execution_count": 13,
      "outputs": [
        {
          "output_type": "stream",
          "name": "stdout",
          "text": [
            "Combo1:: ['csi-b-f417b8d25739.0c8063dd8887', 'csi-b-f417b8d25739.68ff7b72046a', 'csi-b-f417b8d25739.f0ef86178cd9']\n",
            "Combo2:: ['csi-b-f417b8d25739.0c8063dd8887']\n",
            "Combo3:: ['csi-b-f417b8d25739.68ff7b72046a']\n",
            "Combo4:: ['csi-b-f417b8d25739.0c8063dd8887', 'csi-b-f417b8d25739.68ff7b72046a']\n",
            "Combo5:: ['csi-b-f417b8d25739.0c8063dd8887', 'csi-b-f417b8d25739.f0ef86178cd9']\n",
            "Combo6:: ['csi-b-f417b8d25739.68ff7b72046a', 'csi-b-f417b8d25739.f0ef86178cd9']\n",
            "Combo7:: ['csi-b-f417b8d25739.f0ef86178cd9']\n"
          ]
        },
        {
          "output_type": "error",
          "ename": "KeyError",
          "evalue": "ignored",
          "traceback": [
            "\u001b[0;31m---------------------------------------------------------------------------\u001b[0m",
            "\u001b[0;31mKeyError\u001b[0m                                  Traceback (most recent call last)",
            "\u001b[0;32m<ipython-input-13-b0c1e8337e27>\u001b[0m in \u001b[0;36m<module>\u001b[0;34m\u001b[0m\n\u001b[1;32m      1\u001b[0m \u001b[0;32mfor\u001b[0m \u001b[0mi\u001b[0m \u001b[0;32min\u001b[0m \u001b[0mrange\u001b[0m\u001b[0;34m(\u001b[0m\u001b[0;36m20\u001b[0m\u001b[0;34m)\u001b[0m\u001b[0;34m:\u001b[0m\u001b[0;34m\u001b[0m\u001b[0;34m\u001b[0m\u001b[0m\n\u001b[0;32m----> 2\u001b[0;31m   \u001b[0mk\u001b[0m \u001b[0;34m=\u001b[0m \u001b[0mcompress_data\u001b[0m\u001b[0;34m[\u001b[0m\u001b[0;34m'topo1'\u001b[0m\u001b[0;34m]\u001b[0m\u001b[0;34m[\u001b[0m\u001b[0;34m'transition_info'\u001b[0m\u001b[0;34m]\u001b[0m\u001b[0;34m[\u001b[0m\u001b[0;34m'Combo'\u001b[0m\u001b[0;34m+\u001b[0m\u001b[0mstr\u001b[0m\u001b[0;34m(\u001b[0m\u001b[0mi\u001b[0m\u001b[0;34m+\u001b[0m\u001b[0;36m1\u001b[0m\u001b[0;34m)\u001b[0m\u001b[0;34m]\u001b[0m \u001b[0;31m#['links']\u001b[0m\u001b[0;34m\u001b[0m\u001b[0;34m\u001b[0m\u001b[0m\n\u001b[0m\u001b[1;32m      3\u001b[0m   \u001b[0;31m#print('Combo'+str(i+1)+'::',k['links'], '<<<>>>', k['location'])\u001b[0m\u001b[0;34m\u001b[0m\u001b[0;34m\u001b[0m\u001b[0;34m\u001b[0m\u001b[0m\n\u001b[1;32m      4\u001b[0m   \u001b[0mprint\u001b[0m\u001b[0;34m(\u001b[0m\u001b[0;34m'Combo'\u001b[0m\u001b[0;34m+\u001b[0m\u001b[0mstr\u001b[0m\u001b[0;34m(\u001b[0m\u001b[0mi\u001b[0m\u001b[0;34m+\u001b[0m\u001b[0;36m1\u001b[0m\u001b[0;34m)\u001b[0m\u001b[0;34m+\u001b[0m\u001b[0;34m'::'\u001b[0m\u001b[0;34m,\u001b[0m\u001b[0mk\u001b[0m\u001b[0;34m[\u001b[0m\u001b[0;34m'links'\u001b[0m\u001b[0;34m]\u001b[0m\u001b[0;34m)\u001b[0m\u001b[0;34m\u001b[0m\u001b[0;34m\u001b[0m\u001b[0m\n",
            "\u001b[0;31mKeyError\u001b[0m: 'Combo8'"
          ]
        }
      ]
    },
    {
      "cell_type": "code",
      "source": [
        "for i in range(top_combos):\n",
        "  k = compress_data['topo1']['transition_info']['Combo'+str(i+1)] #['links']\n",
        "  #print('Combo'+str(i+1)+'::',k['links'], '<<<>>>', k['location'])\n",
        "  print('Combo'+str(i+1)+'::',k['links'])"
      ],
      "metadata": {
        "colab": {
          "base_uri": "https://localhost:8080/"
        },
        "id": "0xGuuFq8aQ9o",
        "outputId": "1b41da4e-08df-4a6c-99b8-c12b9b4733fc"
      },
      "execution_count": 14,
      "outputs": [
        {
          "output_type": "stream",
          "name": "stdout",
          "text": [
            "Combo1:: ['csi-b-f417b8d25739.0c8063dd8887', 'csi-b-f417b8d25739.68ff7b72046a', 'csi-b-f417b8d25739.f0ef86178cd9']\n",
            "Combo2:: ['csi-b-f417b8d25739.0c8063dd8887']\n",
            "Combo3:: ['csi-b-f417b8d25739.68ff7b72046a']\n",
            "Combo4:: ['csi-b-f417b8d25739.0c8063dd8887', 'csi-b-f417b8d25739.68ff7b72046a']\n",
            "Combo5:: ['csi-b-f417b8d25739.0c8063dd8887', 'csi-b-f417b8d25739.f0ef86178cd9']\n",
            "Combo6:: ['csi-b-f417b8d25739.68ff7b72046a', 'csi-b-f417b8d25739.f0ef86178cd9']\n",
            "Combo7:: ['csi-b-f417b8d25739.f0ef86178cd9']\n"
          ]
        }
      ]
    },
    {
      "cell_type": "code",
      "source": [
        "#compress_data['topo1']['transition_info']['Combo1']['location'].split(':')[0]\n",
        "compress_data['topo1']['topology']\n"
      ],
      "metadata": {
        "colab": {
          "base_uri": "https://localhost:8080/"
        },
        "id": "9yQDeQebaf6P",
        "outputId": "497b7884-a463-43fc-ba05-b9e7d0e4ab9c"
      },
      "execution_count": 15,
      "outputs": [
        {
          "output_type": "execute_result",
          "data": {
            "text/plain": [
              "['csi-b-f417b8d25739.0c8063dd8887',\n",
              " 'csi-b-f417b8d25739.68ff7b72046a',\n",
              " 'csi-b-f417b8d25739.f0ef86178cd9']"
            ]
          },
          "metadata": {},
          "execution_count": 15
        }
      ]
    },
    {
      "cell_type": "code",
      "source": [
        "# Converting each combo to a 'list of links' for similarity calculation\n",
        "lstoflinks = compress_data['topo1']['topology']\n",
        "linkset = compress_data['topo1']['transition_info']['Combo'+str(1)]['links']\n",
        "tok_out = [1 if i in lstoflinks else 0  for i in lstoflinks]\n",
        "\n",
        "print(tok_out)\n",
        "#print(linkset)\n",
        "\n",
        "token_sz = len(lstoflinks)\n",
        "all_tokens = np.zeros((top_combos,token_sz))\n",
        "for i in range(1,top_combos): # replace top_combos from a number to a list\n",
        "  linkset = compress_data['topo1']['transition_info']['Combo'+str(i)]['links']\n",
        "  all_tokens[i][:] = np.array([1 if i in linkset else 0  for i in lstoflinks])\n",
        "\n",
        "\n",
        "print(all_tokens)\n",
        "\n"
      ],
      "metadata": {
        "colab": {
          "base_uri": "https://localhost:8080/"
        },
        "id": "6vjuzsJpjjzS",
        "outputId": "05d07b23-468e-4547-b31a-f2809f5126af"
      },
      "execution_count": 16,
      "outputs": [
        {
          "output_type": "stream",
          "name": "stdout",
          "text": [
            "[1, 1, 1]\n",
            "[[0. 0. 0.]\n",
            " [1. 1. 1.]\n",
            " [1. 0. 0.]\n",
            " [0. 1. 0.]\n",
            " [1. 1. 0.]\n",
            " [1. 0. 1.]\n",
            " [0. 1. 1.]]\n"
          ]
        }
      ]
    },
    {
      "cell_type": "code",
      "source": [
        "# Rotating points across a given point\n",
        "\n",
        "def rotate(p, origin=(0, 0), degrees=0):\n",
        "    angle = np.deg2rad(degrees)\n",
        "    R = np.array([[np.cos(angle), -np.sin(angle)],\n",
        "                  [np.sin(angle),  np.cos(angle)]])\n",
        "    o = np.atleast_2d(origin)\n",
        "    p = np.atleast_2d(p)\n",
        "    return np.squeeze((R @ (p.T-o.T) + o.T).T)\n",
        "\n",
        "\n",
        "points=[(200, 300), (100, 300)]\n",
        "origin=(100,100)\n",
        "\n",
        "new_points = rotate(points, origin=origin, degrees=10)\n",
        "print(new_points)"
      ],
      "metadata": {
        "colab": {
          "base_uri": "https://localhost:8080/"
        },
        "id": "7GI_vnb1f7Th",
        "outputId": "35b8e0cb-89fe-4b86-ea56-60c2cb629495"
      },
      "execution_count": 17,
      "outputs": [
        {
          "output_type": "stream",
          "name": "stdout",
          "text": [
            "[[163.75 314.33]\n",
            " [ 65.27 296.96]]\n"
          ]
        }
      ]
    },
    {
      "cell_type": "code",
      "source": [
        "# Give tokens as input to the dimensionality reduction\n",
        "\n",
        "from sklearn.manifold import MDS\n",
        "from sklearn.manifold import LocallyLinearEmbedding\n",
        "from sklearn.manifold import Isomap\n",
        "from sklearn.manifold import SpectralEmbedding\n",
        "\n",
        "import warnings\n",
        "warnings.filterwarnings('ignore')\n",
        "\n",
        "\n",
        "#mds = MDS(2,metric=True, random_state=0,dissimilarity='precomputed')\n",
        "#X_2d = mds.fit_transform((markov_mat_inv_sym))\n",
        "#X_2d = mds.fit_transform((tr_mat))  # trying anothor distance type\n",
        "\n",
        "#embedding = LocallyLinearEmbedding(n_components=2, n_neighbors=4)\n",
        "#embedding = SpectralEmbedding(n_components=2,n_neighbors=3)\n",
        "embedding = Isomap(n_components=2, n_neighbors=4)\n",
        "TokenX_2d = embedding.fit_transform(all_tokens)\n",
        "\n",
        "\n",
        "# preparing a dictionary of nodes\n",
        "from collections import OrderedDict\n",
        "node_dict=OrderedDict()\n",
        "node_labels = OrderedDict()\n",
        "\n",
        "# \n",
        "len_data = TokenX_2d.shape[0] #len(data_transition.keys())\n",
        "for i in range(1,len_data):\n",
        "    #print(i)\n",
        "    comboname='Combo'+str(i)   # \n",
        "    combo_loc = compress_data['topo1']['transition_info']['Combo'+str(i)]['location']\n",
        "    #print(combo_loc)\n",
        "    node_dict['Combo'+str(i)]=TokenX_2d[i] \n",
        "    node_labels['Combo'+str(i)]= '\\n\\n'+combo_loc.split(':')[0]\n",
        "\n",
        "import networkx as nx\n",
        "\n",
        "import matplotlib.pyplot as plt\n",
        "\n",
        "'''\n",
        "['fivethirtyeight',\n",
        " 'seaborn-pastel',\n",
        " 'seaborn-whitegrid',\n",
        " 'ggplot',\n",
        " 'grayscale']\n",
        " https://jakevdp.github.io/PythonDataScienceHandbook/04.11-settings-and-stylesheets.html\n",
        "'''\n",
        "plt.style.use('ggplot')\n",
        "plt.figure(figsize=(14,8))\n",
        "\n",
        "X = nx.Graph()\n",
        "X.add_nodes_from(node_dict.keys())\n",
        "#nx.draw_networkx_nodes(X,node_dict,node_labels)\n",
        "\n",
        "nx.draw_networkx(X, node_dict, node_labels, node_size = 250, width=3, edge_color = 'grey')\n",
        "nx.draw_networkx_labels(X, node_dict,node_labels)\n",
        "\n",
        "\n",
        "\n"
      ],
      "metadata": {
        "colab": {
          "base_uri": "https://localhost:8080/",
          "height": 570
        },
        "id": "rzFT9NldStH1",
        "outputId": "7e79ece4-ee51-451e-af90-2497ad1c2198"
      },
      "execution_count": 18,
      "outputs": [
        {
          "output_type": "execute_result",
          "data": {
            "text/plain": [
              "{'Combo1': Text(1.0919765512001987, 0.34746347880467743, '\\n\\ncsi-b-f417b8d25739 '),\n",
              " 'Combo2': Text(-1.0919765512001987, 0.347463478804678, '\\n\\n0c8063dd8887 '),\n",
              " 'Combo3': Text(-4.42166952663641e-16, -1.062910184084693, '\\n\\n68ff7b72046a '),\n",
              " 'Combo4': Text(-2.763543454147756e-16, -0.449588349750971, '\\n\\nCombo4'),\n",
              " 'Combo5': Text(5.941618426417676e-16, 1.3220484804565622, '\\n\\nCombo5'),\n",
              " 'Combo6': Text(0.8889941116907789, -0.2522384521151259, '\\n\\nCombo6')}"
            ]
          },
          "metadata": {},
          "execution_count": 18
        },
        {
          "output_type": "display_data",
          "data": {
            "text/plain": [
              "<Figure size 1008x576 with 1 Axes>"
            ],
            "image/png": "[encoded data removed]"
          },
          "metadata": {}
        }
      ]
    },
    {
      "cell_type": "code",
      "source": [
        "#points=[(200, 300), (100, 300)]\n",
        "origin=(0,0)\n",
        "new_points = rotate(TokenX_2d, origin=origin, degrees=10)\n",
        "print(new_points)"
      ],
      "metadata": {
        "colab": {
          "base_uri": "https://localhost:8080/"
        },
        "id": "E2J62xoDfutm",
        "outputId": "f8443af6-013a-4a4a-e718-7711926137cf"
      },
      "execution_count": 19,
      "outputs": [
        {
          "output_type": "stream",
          "name": "stdout",
          "text": [
            "[[-0.83 -0.4 ]\n",
            " [ 1.02  0.53]\n",
            " [-1.14  0.15]\n",
            " [ 0.18 -1.05]\n",
            " [ 0.08 -0.44]\n",
            " [-0.23  1.3 ]\n",
            " [ 0.92 -0.09]]\n"
          ]
        }
      ]
    },
    {
      "cell_type": "code",
      "source": [
        "# Example transition matrix creation\n",
        "\n",
        "data = [3, 0, 1, 3, 2, 6, 5, 4, 7, 5, 4]\n",
        "n = 11  # (this means there are 8 states in Markov chain from 0 - 7, both inclusive)\n",
        "step = 1\n",
        "\n",
        "def compute_transition_matrix(data, n, step = 1):\n",
        "    P = np.zeros((n, n))\n",
        "    T = np.zeros((n,n))\n",
        "    m = len(data)\n",
        "    for i in range(1,m):\n",
        "        initial, final = i, i+ step\n",
        "        if final < m:\n",
        "            P[data[initial]-1][data[final]-1] += 1 # adjust for Combo1 naming\n",
        "            T[data[initial]-1][data[final]-1] += 1\n",
        "\n",
        "    np.fill_diagonal(P, 2) # to reduce frequency effect\n",
        "    #np.fill_diagonal(P, np.sum(P, axis=1)) # \n",
        "    sums = np.sum(P, axis = 1)\n",
        "    for i in range(n):\n",
        "        for j in range(n):\n",
        "            P[i][j] = P[i][j] / sums[i]\n",
        "            #P[i][j] = P[i][j] \n",
        "    return P,T\n",
        "\n",
        "#print(compute_transition_matrix([3, 0, 1, 3, 2, 6, 5, 4, 7, 5, 4], 8, 1))"
      ],
      "metadata": {
        "id": "zoKmnLqh3vdB"
      },
      "execution_count": 20,
      "outputs": []
    },
    {
      "cell_type": "code",
      "source": [
        "tr_mat,count_mat = compute_transition_matrix(data2, top_combos, step = 1)\n",
        "print(count_mat)\n",
        "print(tr_mat)"
      ],
      "metadata": {
        "colab": {
          "base_uri": "https://localhost:8080/"
        },
        "id": "rXgr23M14fwG",
        "outputId": "5839eb08-dffc-4930-c581-6735210b09bf"
      },
      "execution_count": 21,
      "outputs": [
        {
          "output_type": "stream",
          "name": "stdout",
          "text": [
            "[[259.   4.   0.   7.   3.   1.   0.]\n",
            " [  2. 154.   2.  11.   4.   0.   0.]\n",
            " [  0.   1.  84.   0.   0.   1.   1.]\n",
            " [  6.  11.   0.  29.   2.   0.   0.]\n",
            " [  5.   3.   0.   1.   3.   0.   0.]\n",
            " [  1.   0.   1.   0.   0.   1.   0.]\n",
            " [  0.   1.   0.   0.   0.   0.   1.]]\n",
            "[[0.12 0.24 0.   0.41 0.18 0.06 0.  ]\n",
            " [0.1  0.1  0.1  0.52 0.19 0.   0.  ]\n",
            " [0.   0.2  0.4  0.   0.   0.2  0.2 ]\n",
            " [0.29 0.52 0.   0.1  0.1  0.   0.  ]\n",
            " [0.45 0.27 0.   0.09 0.18 0.   0.  ]\n",
            " [0.25 0.   0.25 0.   0.   0.5  0.  ]\n",
            " [0.   0.33 0.   0.   0.   0.   0.67]]\n"
          ]
        }
      ]
    },
    {
      "cell_type": "code",
      "source": [],
      "metadata": {
        "id": "p6TjSbSRjefk"
      },
      "execution_count": 21,
      "outputs": []
    },
    {
      "cell_type": "code",
      "source": [
        "#data2[1:30]\n",
        "# Play around with the transition matrix\n",
        "# Do some mods to the tr_mat, to try variations\n",
        "# variation1 , Mix this matrix with similarity measure based on link disturbances 0.75*main_tr + 0.25*\n",
        "\n",
        "\n"
      ],
      "metadata": {
        "id": "mR21PkfA6tyW"
      },
      "execution_count": 22,
      "outputs": []
    },
    {
      "cell_type": "code",
      "source": [
        "from sklearn.manifold import MDS\n",
        "from sklearn.manifold import LocallyLinearEmbedding\n",
        "from sklearn.manifold import Isomap\n",
        "from sklearn.manifold import SpectralEmbedding\n",
        "\n",
        "import warnings\n",
        "warnings.filterwarnings('ignore')\n",
        "\n",
        "\n",
        "#methods['LLE'] = LLE(method='standard')\n",
        "#methods['LTSA'] = LLE(method='ltsa')\n",
        "#methods['Hessian LLE'] = LLE(method='hessian')\n",
        "##methods['Modified LLE'] = LLE(method='modified')\n",
        "#methods['Isomap'] = manifold.Isomap(n_neighbors, n_components)\n",
        "#methods['MDS'] = manifold.MDS(n_components, max_iter=100, n_init=1)\n",
        "#methods['SE'] = manifold.SpectralEmbedding(n_components=n_components,\n",
        "#                                           n_neighbors=n_neighbors)\n",
        "#methods['t-SNE'] = manifold.TSNE(n_components=n_components, init='pca',\n",
        "#                                 random_state=0)\n",
        "\n",
        "\n",
        "#mds = MDS(2,metric=True, random_state=0,dissimilarity='precomputed')\n",
        "#X_2d = mds.fit_transform((markov_mat_inv_sym))\n",
        "#X_2d = mds.fit_transform((tr_mat))  # trying anothor distance type\n",
        "\n",
        "embedding = LocallyLinearEmbedding(n_components=2, n_neighbors=4)\n",
        "#embedding = SpectralEmbedding(n_components=2,n_neighbors=3)\n",
        "embedding = Isomap(n_components=2, n_neighbors=4)\n",
        "X_2d = embedding.fit_transform(tr_mat)"
      ],
      "metadata": {
        "id": "5Cm0RpaXEEfg"
      },
      "execution_count": 23,
      "outputs": []
    },
    {
      "cell_type": "code",
      "source": [
        "X_2d"
      ],
      "metadata": {
        "colab": {
          "base_uri": "https://localhost:8080/"
        },
        "id": "vICqFnSrlDbf",
        "outputId": "0563c32c-01ec-45e2-db9a-11cb21e79964"
      },
      "execution_count": 24,
      "outputs": [
        {
          "output_type": "execute_result",
          "data": {
            "text/plain": [
              "array([[-0.12, -0.16],\n",
              "       [-0.21, -0.26],\n",
              "       [ 0.17,  0.44],\n",
              "       [ 0.01, -0.15],\n",
              "       [-0.17, -0.3 ],\n",
              "       [-0.36,  0.47],\n",
              "       [ 0.68, -0.04]])"
            ]
          },
          "metadata": {},
          "execution_count": 24
        }
      ]
    },
    {
      "cell_type": "code",
      "source": [
        "origin=(0,0)\n",
        "X_2d = rotate(X_2d, origin=origin, degrees=90)\n",
        "print(X_2d)"
      ],
      "metadata": {
        "colab": {
          "base_uri": "https://localhost:8080/"
        },
        "id": "8i1DA-WNoJEj",
        "outputId": "ad29ab38-1b5b-4611-b837-bae3eeef4777"
      },
      "execution_count": 25,
      "outputs": [
        {
          "output_type": "stream",
          "name": "stdout",
          "text": [
            "[[ 0.16 -0.12]\n",
            " [ 0.26 -0.21]\n",
            " [-0.44  0.17]\n",
            " [ 0.15  0.01]\n",
            " [ 0.3  -0.17]\n",
            " [-0.47 -0.36]\n",
            " [ 0.04  0.68]]\n"
          ]
        }
      ]
    },
    {
      "cell_type": "code",
      "source": [
        "# preparing a dictionary of nodes\n",
        "from collections import OrderedDict\n",
        "node_dict=OrderedDict()\n",
        "node_labels = OrderedDict()\n",
        "\n",
        "# \n",
        "len_data = X_2d.shape[0] #len(data_transition.keys())\n",
        "for i in range(len_data):\n",
        "    #print(i)\n",
        "    comboname='Combo'+str(i)   # \n",
        "    combo_loc = compress_data['topo1']['transition_info']['Combo'+str(i+1)]['location']\n",
        "    #print(combo_loc)\n",
        "    node_dict['Combo'+str(i+1)]=X_2d[i]\n",
        "    node_labels['Combo'+str(i+1)]= '\\n\\n'+combo_loc.split(':')[0]"
      ],
      "metadata": {
        "id": "C2i8U8bylXW4"
      },
      "execution_count": 26,
      "outputs": []
    },
    {
      "cell_type": "code",
      "source": [
        "X_2d.shape[0]"
      ],
      "metadata": {
        "colab": {
          "base_uri": "https://localhost:8080/"
        },
        "id": "L7nwtj7LmJma",
        "outputId": "fdebfd86-c954-470d-b2b3-171fbd35a6a9"
      },
      "execution_count": 27,
      "outputs": [
        {
          "output_type": "execute_result",
          "data": {
            "text/plain": [
              "7"
            ]
          },
          "metadata": {},
          "execution_count": 27
        }
      ]
    },
    {
      "cell_type": "code",
      "source": [],
      "metadata": {
        "id": "1zLEL5Qekc9c"
      },
      "execution_count": 27,
      "outputs": []
    },
    {
      "cell_type": "code",
      "source": [
        "import networkx as nx\n",
        "\n",
        "X = nx.Graph()\n",
        "X.add_nodes_from(node_dict.keys())\n",
        "nx.draw_networkx_nodes(X,node_dict,node_labels)\n",
        "#nx.draw_networkx_labels(X,node_dict,node_labels)"
      ],
      "metadata": {
        "colab": {
          "base_uri": "https://localhost:8080/",
          "height": 265
        },
        "id": "ckKRQBwcmNJ5",
        "outputId": "cd3d903b-dbae-4eb5-c737-af0366f65d2d"
      },
      "execution_count": 28,
      "outputs": [
        {
          "output_type": "execute_result",
          "data": {
            "text/plain": [
              "<matplotlib.collections.PathCollection at 0x7f650bc76a30>"
            ]
          },
          "metadata": {},
          "execution_count": 28
        },
        {
          "output_type": "display_data",
          "data": {
            "text/plain": [
              "<Figure size 432x288 with 1 Axes>"
            ],
            "image/png": "[encoded data removed]"
          },
          "metadata": {}
        }
      ]
    },
    {
      "cell_type": "code",
      "source": [
        "node_dict.keys()"
      ],
      "metadata": {
        "colab": {
          "base_uri": "https://localhost:8080/"
        },
        "id": "MBMvVyd6nUWy",
        "outputId": "56aba5cf-eca3-49f4-b33b-e67501afc83e"
      },
      "execution_count": 29,
      "outputs": [
        {
          "output_type": "execute_result",
          "data": {
            "text/plain": [
              "odict_keys(['Combo1', 'Combo2', 'Combo3', 'Combo4', 'Combo5', 'Combo6', 'Combo7'])"
            ]
          },
          "metadata": {},
          "execution_count": 29
        }
      ]
    },
    {
      "cell_type": "code",
      "source": [
        "import matplotlib.pyplot as plt\n",
        "\n",
        "'''\n",
        "['fivethirtyeight',\n",
        " 'seaborn-pastel',\n",
        " 'seaborn-whitegrid',\n",
        " 'ggplot',\n",
        " 'grayscale']\n",
        " https://jakevdp.github.io/PythonDataScienceHandbook/04.11-settings-and-stylesheets.html\n",
        "'''\n",
        "plt.style.use('ggplot')\n",
        "plt.figure(figsize=(14,8))\n",
        "\n",
        "#T = nx.minimum_spanning_tree(X) \n",
        "nx.draw_networkx(X, node_dict, node_labels, node_size = 250, width=3, edge_color = 'grey')\n",
        "nx.draw_networkx_labels(X, node_dict,node_labels)\n",
        "#nx.draw(T, node_dict, with_labels = True)\n",
        "#plt.show()"
      ],
      "metadata": {
        "colab": {
          "base_uri": "https://localhost:8080/",
          "height": 588
        },
        "id": "Sch2E5GfoUpL",
        "outputId": "3de7844f-35f8-4bec-8a80-7c3e59173ac5"
      },
      "execution_count": 30,
      "outputs": [
        {
          "output_type": "execute_result",
          "data": {
            "text/plain": [
              "{'Combo1': Text(0.16458956920042267, -0.1152650117304742, '\\n\\ncsi-b-f417b8d25739 '),\n",
              " 'Combo2': Text(0.25616101564749727, -0.20932728548959573, '\\n\\n0c8063dd8887 '),\n",
              " 'Combo3': Text(-0.44438079688850707, 0.16822519386259963, '\\n\\n68ff7b72046a '),\n",
              " 'Combo4': Text(0.14868020782410296, 0.00759784604706765, '\\n\\nCombo4'),\n",
              " 'Combo5': Text(0.30413013896452246, -0.1663407029866178, '\\n\\nCombo5'),\n",
              " 'Combo6': Text(-0.4678231796887927, -0.36454892514743376, '\\n\\nCombo6'),\n",
              " 'Combo7': Text(0.03864304494075452, 0.6796588854444541, '\\n\\nf0ef86178cd9 ')}"
            ]
          },
          "metadata": {},
          "execution_count": 30
        },
        {
          "output_type": "display_data",
          "data": {
            "text/plain": [
              "<Figure size 1008x576 with 1 Axes>"
            ],
            "image/png": "[encoded data removed]"
          },
          "metadata": {}
        }
      ]
    },
    {
      "cell_type": "code",
      "source": [
        "compress_data['topo1']['topology']"
      ],
      "metadata": {
        "colab": {
          "base_uri": "https://localhost:8080/"
        },
        "id": "qmio4la2pwuc",
        "outputId": "a68ad13c-ea23-441a-cf60-fbde2ffa90f3"
      },
      "execution_count": 31,
      "outputs": [
        {
          "output_type": "execute_result",
          "data": {
            "text/plain": [
              "['4C72700E0D.4C72700E1C',\n",
              " '4C72700E1C.4C72700E0D',\n",
              " '4C72700E1C.4C72700E2C',\n",
              " '4C72700E1C.f081731d0c40',\n",
              " '4C72700E2C.4C72700E1C',\n",
              " '4C72700E2C.4C72700E2E',\n",
              " '4C72700E2C.58d34926c760',\n",
              " '4C72700E2E.4C72700E2C']"
            ]
          },
          "metadata": {},
          "execution_count": 31
        }
      ]
    },
    {
      "cell_type": "code",
      "source": [],
      "metadata": {
        "id": "k-u5Z6irnf__"
      },
      "execution_count": 31,
      "outputs": []
    },
    {
      "cell_type": "code",
      "source": [
        "# function() to take a combo number, and generate a new data sequence on already selected combos + the new combo\n",
        "## How would it take input from another combo/data/topology stream ??\n",
        "# Then count transitions of this to existing combos. \n",
        "# Match to combos existing in the current iteration (not required in this case)\n",
        "# "
      ],
      "metadata": {
        "id": "3klUk0Q55QAY"
      },
      "execution_count": 33,
      "outputs": []
    },
    {
      "cell_type": "code",
      "source": [
        "for i in range(10):\n",
        "  k = compress_data['topo1']['transition_info']['Combo'+str(i+1)] #['links']\n",
        "  print('Combo'+str(i+1)+'::',k['links'], '<<<>>>', k['location'])"
      ],
      "metadata": {
        "colab": {
          "base_uri": "https://localhost:8080/"
        },
        "id": "k7WCgK_hqQpl",
        "outputId": "9a5b5e7d-1d07-4bb8-ad81-4a0e14cf8ab9"
      },
      "execution_count": null,
      "outputs": [
        {
          "output_type": "stream",
          "name": "stdout",
          "text": [
            "Combo1:: ['4C72700E0D.4C72700E1C', '4C72700E1C.4C72700E0D', '4C72700E1C.4C72700E2C', '4C72700E1C.f081731d0c40', '4C72700E2C.4C72700E1C'] <<<>>> 4C72700E1C : 4C72700E1C\n",
            "Combo2:: ['4C72700E2C.4C72700E2E', '4C72700E2E.4C72700E2C'] <<<>>> 4C72700E2E : 4C72700E2E\n",
            "Combo3:: ['4C72700E0D.4C72700E1C', '4C72700E1C.4C72700E0D'] <<<>>> 4C72700E0D : 4C72700E0D\n",
            "Combo4:: ['4C72700E1C.4C72700E2C', '4C72700E2C.4C72700E1C', '4C72700E2C.4C72700E2E', '4C72700E2C.58d34926c760', '4C72700E2E.4C72700E2C'] <<<>>> 4C72700E2C : 4C72700E2C\n",
            "Combo5:: ['4C72700E2C.4C72700E2E', '4C72700E2C.58d34926c760', '4C72700E2E.4C72700E2C'] <<<>>> 4C72700E2E : 4C72700E2E\n",
            "Combo6:: ['4C72700E0D.4C72700E1C', '4C72700E1C.4C72700E0D', '4C72700E1C.f081731d0c40'] <<<>>> 4C72700E0D : 4C72700E0D\n",
            "Combo7:: ['4C72700E2C.58d34926c760'] <<<>>> 58d34926c760 : zone2\n",
            "Combo8:: ['4C72700E0D.4C72700E1C', '4C72700E1C.4C72700E0D', '4C72700E1C.4C72700E2C', '4C72700E2C.4C72700E1C'] <<<>>> 4C72700E1C : 4C72700E1C\n",
            "Combo9:: ['4C72700E1C.f081731d0c40', '4C72700E2C.4C72700E2E', '4C72700E2E.4C72700E2C'] <<<>>> 4C72700E2E : 4C72700E2E\n",
            "Combo10:: ['4C72700E0D.4C72700E1C', '4C72700E1C.4C72700E0D', '4C72700E1C.4C72700E2C', '4C72700E1C.f081731d0c40'] <<<>>> 4C72700E1C : 4C72700E1C\n"
          ]
        }
      ]
    },
    {
      "cell_type": "code",
      "source": [
        "# generating sequences for alignement\n",
        "seq1 = []\n",
        "seq2 = []\n",
        "\n",
        "for i in data2:\n",
        "  if i==1:\n",
        "    seq1.append(1)\n",
        "  elif i==4:\n",
        "    seq2.append(1)\n",
        "  else:\n",
        "    seq1.append(0)\n",
        "    seq2.append(0)\n",
        "\n",
        "\n",
        "    "
      ],
      "metadata": {
        "id": "CQS-Mv7J0KzY"
      },
      "execution_count": null,
      "outputs": []
    },
    {
      "cell_type": "code",
      "source": [
        "plt.figure(figsize=(20,5))\n",
        "plt.plot(seq1)\n",
        "plt.plot(seq2)"
      ],
      "metadata": {
        "colab": {
          "base_uri": "https://localhost:8080/",
          "height": 337
        },
        "id": "ZjBm2I87is3P",
        "outputId": "db9c3b30-5522-42ae-c30f-9a5bdc0a19d5"
      },
      "execution_count": null,
      "outputs": [
        {
          "output_type": "execute_result",
          "data": {
            "text/plain": [
              "[<matplotlib.lines.Line2D at 0x7f8b2afa4a90>]"
            ]
          },
          "metadata": {},
          "execution_count": 43
        },
        {
          "output_type": "display_data",
          "data": {
            "text/plain": [
              "<Figure size 1440x360 with 1 Axes>"
            ],
            "image/png": "[encoded data removed]"
          },
          "metadata": {}
        }
      ]
    },
    {
      "cell_type": "code",
      "source": [
        "a1 = np.correlate(seq2,seq1,'valid')\n",
        "\n",
        "plt.figure()\n",
        "plt.plot(a1)"
      ],
      "metadata": {
        "colab": {
          "base_uri": "https://localhost:8080/",
          "height": 282
        },
        "id": "VO22PbSRixju",
        "outputId": "e0c2ee40-a0fe-49a9-af86-64c83d48d1d4"
      },
      "execution_count": null,
      "outputs": [
        {
          "output_type": "execute_result",
          "data": {
            "text/plain": [
              "[<matplotlib.lines.Line2D at 0x7f8b1e437eb0>]"
            ]
          },
          "metadata": {},
          "execution_count": 44
        },
        {
          "output_type": "display_data",
          "data": {
            "text/plain": [
              "<Figure size 432x288 with 1 Axes>"
            ],
            "image/png": "[encoded data removed]"
          },
          "metadata": {}
        }
      ]
    },
    {
      "cell_type": "code",
      "source": [
        "from pydtw import dtw1d"
      ],
      "metadata": {
        "colab": {
          "base_uri": "https://localhost:8080/",
          "height": 304
        },
        "id": "ZHTpnORAkY3P",
        "outputId": "9f435460-d5c1-4dc5-fbd0-4ad6d7c1af70"
      },
      "execution_count": null,
      "outputs": [
        {
          "output_type": "error",
          "ename": "ModuleNotFoundError",
          "evalue": "ignored",
          "traceback": [
            "\u001b[0;31m---------------------------------------------------------------------------\u001b[0m",
            "\u001b[0;31mModuleNotFoundError\u001b[0m                       Traceback (most recent call last)",
            "\u001b[0;32m<ipython-input-82-b8401b275ee8>\u001b[0m in \u001b[0;36m<module>\u001b[0;34m\u001b[0m\n\u001b[0;32m----> 1\u001b[0;31m \u001b[0;32mfrom\u001b[0m \u001b[0mpydtw\u001b[0m \u001b[0;32mimport\u001b[0m \u001b[0mdtw1d\u001b[0m\u001b[0;34m\u001b[0m\u001b[0;34m\u001b[0m\u001b[0m\n\u001b[0m",
            "\u001b[0;31mModuleNotFoundError\u001b[0m: No module named 'pydtw'",
            "",
            "\u001b[0;31m---------------------------------------------------------------------------\u001b[0;32m\nNOTE: If your import is failing due to a missing package, you can\nmanually install dependencies using either !pip or !apt.\n\nTo view examples of installing some common dependencies, click the\n\"Open Examples\" button below.\n\u001b[0;31m---------------------------------------------------------------------------\u001b[0m\n"
          ],
          "errorDetails": {
            "actions": [
              {
                "action": "open_url",
                "actionText": "Open Examples",
                "url": "/notebooks/snippets/importing_libraries.ipynb"
              }
            ]
          }
        }
      ]
    },
    {
      "cell_type": "code",
      "source": [],
      "metadata": {
        "id": "0TKhTWMHyYjA"
      },
      "execution_count": null,
      "outputs": []
    }
  ]
}